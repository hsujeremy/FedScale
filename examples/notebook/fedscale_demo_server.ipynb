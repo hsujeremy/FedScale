{
 "cells": [
  {
   "cell_type": "markdown",
   "id": "466d23de",
   "metadata": {},
   "source": [
    "# Federated Learning for Image Classification using Fedscale"
   ]
  },
  {
   "cell_type": "markdown",
   "id": "0421621a",
   "metadata": {},
   "source": [
    "## Server Side"
   ]
  },
  {
   "cell_type": "code",
   "execution_count": 8,
   "metadata": {},
   "outputs": [
    {
     "name": "stdout",
     "output_type": "stream",
     "text": [
      "The autoreload extension is already loaded. To reload it, use:\n",
      "  %reload_ext autoreload\n"
     ]
    }
   ],
   "source": [
    "%load_ext autoreload\n",
    "%autoreload 2"
   ]
  },
  {
   "cell_type": "code",
   "execution_count": 9,
   "id": "a1e48395",
   "metadata": {},
   "outputs": [
    {
     "name": "stderr",
     "output_type": "stream",
     "text": [
      "usage: ipykernel_launcher.py [-h] [--job_name JOB_NAME] [--log_path LOG_PATH]\n",
      "                             [--wandb_token WANDB_TOKEN] [--ps_ip PS_IP]\n",
      "                             [--ps_port PS_PORT] [--this_rank THIS_RANK]\n",
      "                             [--connection_timeout CONNECTION_TIMEOUT]\n",
      "                             [--experiment_mode EXPERIMENT_MODE]\n",
      "                             [--engine ENGINE] [--num_executors NUM_EXECUTORS]\n",
      "                             [--executor_configs EXECUTOR_CONFIGS]\n",
      "                             [--num_participants NUM_PARTICIPANTS]\n",
      "                             [--data_map_file DATA_MAP_FILE]\n",
      "                             [--use_cuda USE_CUDA] [--cuda_device CUDA_DEVICE]\n",
      "                             [--time_stamp TIME_STAMP] [--task TASK]\n",
      "                             [--device_avail_file DEVICE_AVAIL_FILE]\n",
      "                             [--clock_factor CLOCK_FACTOR]\n",
      "                             [--model_zoo {torchcv,fedscale-torch-zoo,fedscale-tensorflow-zoo}]\n",
      "                             [--data_dir DATA_DIR]\n",
      "                             [--device_conf_file DEVICE_CONF_FILE]\n",
      "                             [--model MODEL] [--data_set DATA_SET]\n",
      "                             [--sample_mode SAMPLE_MODE]\n",
      "                             [--filter_less FILTER_LESS]\n",
      "                             [--filter_more FILTER_MORE]\n",
      "                             [--train_uniform TRAIN_UNIFORM]\n",
      "                             [--conf_path CONF_PATH]\n",
      "                             [--overcommitment OVERCOMMITMENT]\n",
      "                             [--model_size MODEL_SIZE]\n",
      "                             [--round_threshold ROUND_THRESHOLD]\n",
      "                             [--round_penalty ROUND_PENALTY]\n",
      "                             [--clip_bound CLIP_BOUND]\n",
      "                             [--blacklist_rounds BLACKLIST_ROUNDS]\n",
      "                             [--blacklist_max_len BLACKLIST_MAX_LEN]\n",
      "                             [--embedding_file EMBEDDING_FILE]\n",
      "                             [--input_shape INPUT_SHAPE [INPUT_SHAPE ...]]\n",
      "                             [--save_checkpoint SAVE_CHECKPOINT]\n",
      "                             [--rounds ROUNDS] [--local_steps LOCAL_STEPS]\n",
      "                             [--batch_size BATCH_SIZE] [--test_bsz TEST_BSZ]\n",
      "                             [--backend BACKEND]\n",
      "                             [--learning_rate LEARNING_RATE]\n",
      "                             [--min_learning_rate MIN_LEARNING_RATE]\n",
      "                             [--input_dim INPUT_DIM] [--output_dim OUTPUT_DIM]\n",
      "                             [--dump_epoch DUMP_EPOCH]\n",
      "                             [--decay_factor DECAY_FACTOR]\n",
      "                             [--decay_round DECAY_ROUND]\n",
      "                             [--num_loaders NUM_LOADERS]\n",
      "                             [--eval_interval EVAL_INTERVAL]\n",
      "                             [--sample_seed SAMPLE_SEED]\n",
      "                             [--test_ratio TEST_RATIO]\n",
      "                             [--loss_decay LOSS_DECAY]\n",
      "                             [--exploration_min EXPLORATION_MIN]\n",
      "                             [--cut_off_util CUT_OFF_UTIL]\n",
      "                             [--gradient_policy GRADIENT_POLICY]\n",
      "                             [--yogi_eta YOGI_ETA] [--yogi_tau YOGI_TAU]\n",
      "                             [--yogi_beta YOGI_BETA] [--yogi_beta2 YOGI_BETA2]\n",
      "                             [--proxy_mu PROXY_MU] [--cfg_file CFG_FILE]\n",
      "                             [--test_output_dir TEST_OUTPUT_DIR]\n",
      "                             [--train_size_file TRAIN_SIZE_FILE]\n",
      "                             [--test_size_file TEST_SIZE_FILE]\n",
      "                             [--data_cache DATA_CACHE] [--backbone BACKBONE]\n",
      "                             [--malicious_factor MALICIOUS_FACTOR]\n",
      "                             [--max_concurrency MAX_CONCURRENCY]\n",
      "                             [--max_staleness MAX_STALENESS]\n",
      "                             [--noise_factor NOISE_FACTOR]\n",
      "                             [--clip_threshold CLIP_THRESHOLD]\n",
      "                             [--target_delta TARGET_DELTA]\n",
      "                             [--pacer_delta PACER_DELTA]\n",
      "                             [--pacer_step PACER_STEP]\n",
      "                             [--exploration_alpha EXPLORATION_ALPHA]\n",
      "                             [--exploration_factor EXPLORATION_FACTOR]\n",
      "                             [--exploration_decay EXPLORATION_DECAY]\n",
      "                             [--sample_window SAMPLE_WINDOW] [--line_by_line]\n",
      "                             [--clf_block_size CLF_BLOCK_SIZE] [--mlm MLM]\n",
      "                             [--mlm_probability MLM_PROBABILITY]\n",
      "                             [--overwrite_cache OVERWRITE_CACHE]\n",
      "                             [--block_size BLOCK_SIZE]\n",
      "                             [--weight_decay WEIGHT_DECAY]\n",
      "                             [--adam_epsilon ADAM_EPSILON]\n",
      "                             [--vocab_token_size VOCAB_TOKEN_SIZE]\n",
      "                             [--vocab_tag_size VOCAB_TAG_SIZE]\n",
      "                             [--epsilon EPSILON] [--gamma GAMMA]\n",
      "                             [--memory_capacity MEMORY_CAPACITY]\n",
      "                             [--target_replace_iter TARGET_REPLACE_ITER]\n",
      "                             [--n_actions N_ACTIONS] [--n_states N_STATES]\n",
      "                             [--num_classes NUM_CLASSES]\n",
      "                             [--train-manifest DIR] [--test-manifest DIR]\n",
      "                             [--sample-rate SAMPLE_RATE]\n",
      "                             [--labels-path LABELS_PATH]\n",
      "                             [--window-size WINDOW_SIZE]\n",
      "                             [--window-stride WINDOW_STRIDE] [--window WINDOW]\n",
      "                             [--hidden-size HIDDEN_SIZE]\n",
      "                             [--hidden-layers HIDDEN_LAYERS]\n",
      "                             [--rnn-type RNN_TYPE] [--finetune]\n",
      "                             [--speed-volume-perturb] [--spec-augment]\n",
      "                             [--noise-dir NOISE_DIR] [--noise-prob NOISE_PROB]\n",
      "                             [--noise-min NOISE_MIN] [--noise-max NOISE_MAX]\n",
      "                             [--no-bidirectional]\n",
      "ipykernel_launcher.py: error: ambiguous option: --f=/Users/steveli/Library/Jupyter/runtime/kernel-v2-81778WuysT6hiHBoL.json could match --filter_less, --filter_more, --finetune\n"
     ]
    },
    {
     "ename": "SystemExit",
     "evalue": "2",
     "output_type": "error",
     "traceback": [
      "An exception has occurred, use %tb to see the full traceback.\n",
      "\u001b[0;31mSystemExit\u001b[0m\u001b[0;31m:\u001b[0m 2\n"
     ]
    }
   ],
   "source": [
    "import sys, os\n",
    "\n",
    "import fedscale.cloud.config_parser as parser\n",
    "from fedscale.cloud.execution.torch_client import TorchClient\n",
    "from fedscale.cloud.aggregation.aggregator import Aggregator\n",
    "Demo_Aggregator = Aggregator(parser.args)\n",
    "### On CPU\n",
    "parser.args.use_cuda = \"False\"\n",
    "Demo_Aggregator.run()"
   ]
  },
  {
   "cell_type": "code",
   "execution_count": null,
   "id": "c86247da",
   "metadata": {},
   "outputs": [],
   "source": [
    "!tensorboard --logdir=./logs/demo_job --port=6007 --bind_all"
   ]
  },
  {
   "cell_type": "code",
   "execution_count": null,
   "id": "f2a40035",
   "metadata": {},
   "outputs": [],
   "source": []
  }
 ],
 "metadata": {
  "kernelspec": {
   "display_name": "Python 3 (ipykernel)",
   "language": "python",
   "name": "python3"
  },
  "language_info": {
   "codemirror_mode": {
    "name": "ipython",
    "version": 3
   },
   "file_extension": ".py",
   "mimetype": "text/x-python",
   "name": "python",
   "nbconvert_exporter": "python",
   "pygments_lexer": "ipython3",
   "version": "3.7.16"
  },
  "vscode": {
   "interpreter": {
    "hash": "c61f092c149070809c0e629644d57c0873f394886eddd38a7b619aa7d2ef8d75"
   }
  }
 },
 "nbformat": 4,
 "nbformat_minor": 5
}
